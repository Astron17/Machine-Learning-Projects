{
 "cells": [
  {
   "cell_type": "code",
   "execution_count": 1,
   "metadata": {},
   "outputs": [],
   "source": [
    "data = [\n",
    "       [[22], [1]],\n",
    "       [[23], [1]],\n",
    "       [[21], [1]],\n",
    "       [[18], [1]],\n",
    "       [[19], [1]],\n",
    "       [[25], [0]],\n",
    "       [[27], [0]],\n",
    "       [[29], [0]],\n",
    "       [[31], [0]],\n",
    "       [[45], [0]],\n",
    "    ]"
   ]
  },
  {
   "cell_type": "code",
   "execution_count": 2,
   "metadata": {},
   "outputs": [],
   "source": [
    "query = [33]"
   ]
  },
  {
   "cell_type": "code",
   "execution_count": 3,
   "metadata": {},
   "outputs": [],
   "source": [
    "import math\n",
    "\n",
    "def euclidean_distance(x,y):\n",
    "    distance = 0\n",
    "    for i in range(len(x)):\n",
    "        distance += (y[i]-x[i]) ** 2\n",
    "    return math.sqrt(distance)\n",
    "    "
   ]
  },
  {
   "cell_type": "code",
   "execution_count": 4,
   "metadata": {},
   "outputs": [
    {
     "name": "stdout",
     "output_type": "stream",
     "text": [
      "[(1.0, 1), (2.0, 1), (4.0, 1)]\n"
     ]
    },
    {
     "data": {
      "text/plain": [
       "1"
      ]
     },
     "execution_count": 4,
     "metadata": {},
     "output_type": "execute_result"
    }
   ],
   "source": [
    "x = [22]\n",
    "y = [17]\n",
    "k=3\n",
    "neighbour_distances=[]\n",
    "for i in data:\n",
    "    neighbour_distances.append((euclidean_distance(i[0],y),i[1][0]))\n",
    "sorted_neighbour_distances = sorted(neighbour_distances)\n",
    "sorted_neighbour_distances = sorted_neighbour_distances[:k]\n",
    "print(sorted_neighbour_distances)\n",
    "max(set(sorted_neighbour_distances[1]),key=sorted_neighbour_distances[1].count)\n",
    "    \n",
    "    \n",
    "    \n",
    "#euclidean_distance(x,y)"
   ]
  },
  {
   "cell_type": "code",
   "execution_count": 5,
   "metadata": {},
   "outputs": [],
   "source": [
    "import pandas as pd"
   ]
  },
  {
   "cell_type": "code",
   "execution_count": 7,
   "metadata": {},
   "outputs": [],
   "source": [
    "df =  pd.read_csv(\"Datasets\\iris.data\")"
   ]
  },
  {
   "cell_type": "code",
   "execution_count": 8,
   "metadata": {},
   "outputs": [],
   "source": [
    "df.columns=['SepalLengthCm', 'SepalWidthCm', 'PetalLengthCm', 'PetalWidthCm',\n",
    "       'Species']"
   ]
  },
  {
   "cell_type": "code",
   "execution_count": 9,
   "metadata": {},
   "outputs": [
    {
     "data": {
      "text/html": [
       "<div>\n",
       "<style scoped>\n",
       "    .dataframe tbody tr th:only-of-type {\n",
       "        vertical-align: middle;\n",
       "    }\n",
       "\n",
       "    .dataframe tbody tr th {\n",
       "        vertical-align: top;\n",
       "    }\n",
       "\n",
       "    .dataframe thead th {\n",
       "        text-align: right;\n",
       "    }\n",
       "</style>\n",
       "<table border=\"1\" class=\"dataframe\">\n",
       "  <thead>\n",
       "    <tr style=\"text-align: right;\">\n",
       "      <th></th>\n",
       "      <th>SepalLengthCm</th>\n",
       "      <th>SepalWidthCm</th>\n",
       "      <th>PetalLengthCm</th>\n",
       "      <th>PetalWidthCm</th>\n",
       "      <th>Species</th>\n",
       "    </tr>\n",
       "  </thead>\n",
       "  <tbody>\n",
       "    <tr>\n",
       "      <th>0</th>\n",
       "      <td>4.9</td>\n",
       "      <td>3.0</td>\n",
       "      <td>1.4</td>\n",
       "      <td>0.2</td>\n",
       "      <td>Iris-setosa</td>\n",
       "    </tr>\n",
       "    <tr>\n",
       "      <th>1</th>\n",
       "      <td>4.7</td>\n",
       "      <td>3.2</td>\n",
       "      <td>1.3</td>\n",
       "      <td>0.2</td>\n",
       "      <td>Iris-setosa</td>\n",
       "    </tr>\n",
       "    <tr>\n",
       "      <th>2</th>\n",
       "      <td>4.6</td>\n",
       "      <td>3.1</td>\n",
       "      <td>1.5</td>\n",
       "      <td>0.2</td>\n",
       "      <td>Iris-setosa</td>\n",
       "    </tr>\n",
       "    <tr>\n",
       "      <th>3</th>\n",
       "      <td>5.0</td>\n",
       "      <td>3.6</td>\n",
       "      <td>1.4</td>\n",
       "      <td>0.2</td>\n",
       "      <td>Iris-setosa</td>\n",
       "    </tr>\n",
       "    <tr>\n",
       "      <th>4</th>\n",
       "      <td>5.4</td>\n",
       "      <td>3.9</td>\n",
       "      <td>1.7</td>\n",
       "      <td>0.4</td>\n",
       "      <td>Iris-setosa</td>\n",
       "    </tr>\n",
       "  </tbody>\n",
       "</table>\n",
       "</div>"
      ],
      "text/plain": [
       "   SepalLengthCm  SepalWidthCm  PetalLengthCm  PetalWidthCm      Species\n",
       "0            4.9           3.0            1.4           0.2  Iris-setosa\n",
       "1            4.7           3.2            1.3           0.2  Iris-setosa\n",
       "2            4.6           3.1            1.5           0.2  Iris-setosa\n",
       "3            5.0           3.6            1.4           0.2  Iris-setosa\n",
       "4            5.4           3.9            1.7           0.4  Iris-setosa"
      ]
     },
     "execution_count": 9,
     "metadata": {},
     "output_type": "execute_result"
    }
   ],
   "source": [
    "df.head()"
   ]
  },
  {
   "cell_type": "code",
   "execution_count": 10,
   "metadata": {},
   "outputs": [
    {
     "data": {
      "text/plain": [
       "4.9"
      ]
     },
     "execution_count": 10,
     "metadata": {},
     "output_type": "execute_result"
    }
   ],
   "source": [
    "df['SepalLengthCm'][0]"
   ]
  },
  {
   "cell_type": "code",
   "execution_count": 11,
   "metadata": {},
   "outputs": [
    {
     "data": {
      "text/plain": [
       "129"
      ]
     },
     "execution_count": 11,
     "metadata": {},
     "output_type": "execute_result"
    }
   ],
   "source": [
    "len(df)"
   ]
  },
  {
   "cell_type": "code",
   "execution_count": 12,
   "metadata": {},
   "outputs": [],
   "source": [
    "data=[]\n",
    "for i in range(len(df)):\n",
    "    data.append([[df['SepalLengthCm'][i],df['SepalWidthCm'][i],df['PetalLengthCm'][i],df['PetalWidthCm'][i]],[df['Species'][i]]])\n",
    "    "
   ]
  },
  {
   "cell_type": "code",
   "execution_count": 13,
   "metadata": {},
   "outputs": [],
   "source": [
    "data = [\n",
    "       [[22], [1]],\n",
    "       [[23], [1]],\n",
    "       [[21], [1]],\n",
    "       [[18], [1]],\n",
    "       [[19], [1]],\n",
    "       [[25], [0]],\n",
    "       [[27], [0]],\n",
    "       [[29], [0]],\n",
    "       [[31], [0]],\n",
    "       [[45], [0]],\n",
    "    ]"
   ]
  },
  {
   "cell_type": "code",
   "execution_count": 14,
   "metadata": {},
   "outputs": [
    {
     "name": "stdout",
     "output_type": "stream",
     "text": [
      "[(1.0, 1), (2.0, 1), (4.0, 1)]\n",
      "{1: 3}\n"
     ]
    }
   ],
   "source": [
    "y=[17]\n",
    "k=3\n",
    "neighbour_distances=[]\n",
    "for i in data:\n",
    "    neighbour_distances.append((euclidean_distance(i[0],y),i[1][0]))\n",
    "sorted_neighbour_distances = sorted(neighbour_distances)\n",
    "sorted_neighbour_distances = sorted_neighbour_distances[:k]\n",
    "print(sorted_neighbour_distances)\n",
    "sorted_neighbour_distances[0][1]\n",
    "dit = {}\n",
    "for i in sorted_neighbour_distances:\n",
    "    if i[1] in dit:\n",
    "        dit[i[1]] = dit[i[1]] + 1\n",
    "    else:\n",
    "        dit[i[1]] = 1\n",
    "        \n",
    "print(dit)\n"
   ]
  },
  {
   "cell_type": "code",
   "execution_count": null,
   "metadata": {},
   "outputs": [],
   "source": []
  }
 ],
 "metadata": {
  "kernelspec": {
   "display_name": "Python 3",
   "language": "python",
   "name": "python3"
  },
  "language_info": {
   "codemirror_mode": {
    "name": "ipython",
    "version": 3
   },
   "file_extension": ".py",
   "mimetype": "text/x-python",
   "name": "python",
   "nbconvert_exporter": "python",
   "pygments_lexer": "ipython3",
   "version": "3.7.4"
  }
 },
 "nbformat": 4,
 "nbformat_minor": 4
}
